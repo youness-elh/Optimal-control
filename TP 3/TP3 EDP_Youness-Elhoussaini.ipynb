{
 "cells": [
  {
   "cell_type": "markdown",
   "metadata": {},
   "source": [
    "# Contrôle optimal de l'équation de la chaleur"
   ]
  },
  {
   "cell_type": "code",
   "execution_count": 1,
   "metadata": {},
   "outputs": [],
   "source": [
    "import numpy as np\n",
    "import matplotlib.pyplot as plt  \n",
    "from scipy.integrate import odeint\n",
    "from gekko import GEKKO\n",
    "import warnings\n",
    "import scipy as sp\n",
    "from scipy import sparse\n",
    "import scipy.sparse as spsp\n",
    "from scipy.sparse.linalg import spsolve\n",
    "m = GEKKO()"
   ]
  },
  {
   "cell_type": "markdown",
   "metadata": {},
   "source": [
    "On considère une barre unidimensionnelle de longueur $L > 0$. La température de l’extrémité\n",
    "gauche de la barre $( $ en $x = 0)$ est maintenue à $0 \\,^oK$ et on cherche à contrôler la température\n",
    "de la barre à l’extrémité droite (en x = L) à l’aide d’un flux de chaleur $t \\rightarrow u(t)$. On appelle\n",
    "$y_u(t, x)$ la température de cette barre au temps $t ∈ [0, T]$ et en $x ∈ [0, L]$.\n",
    "\n",
    "On suppose donc que $y_u$ résout l’équation de la chaleur:\n",
    "\n",
    "$$\\left\\{\\begin{array}{ll} \n",
    "      \\partial_t y_u (t,x) - \\partial_{xx} y_u (t,x) = 0 \\quad (t,x)  \\in ]0,T[ \\times [0,L] \\\\\n",
    "      y_u(0,x) = 0 \\quad x \\in [0,L]\\\\\n",
    "      y_u(t,0) = 0 \\quad t \\in [0,T] \\text{(condition de Dirichlet homogène)}\\\\\n",
    "      \\partial_x y_u(t,L) = u(t) \\quad t \\in [0,T] \\text{(condition de Neumann non-homogène)}.\n",
    "      \\end{array}\n",
    "    \\right.$$\n",
    "\n",
    "et on s’intéresse au problème de contrôle optimal\n",
    "\n",
    "$$inf_{u \\in L^2(]0,T[)} \\mathbf J(u) \\quad où \\, \\mathbf J(u) = \\frac 1 2 \\int_0^T \\big( y_u(t,L) - z_d(t)\\big)^2 dt + \\frac {\\alpha} {2} \\int_0^T u(t)^2 dt   \\quad  \\quad \\quad (P)$$\n",
    "\n",
    "où $\\alpha > 0$ (pour éviter la confusion on note $\\alpha$ à la place de $\\epsilon$ de l'énoncé) est paramètre fixé et $z_d \\in L^2(]0,T[) $ est donnée."
   ]
  },
  {
   "cell_type": "markdown",
   "metadata": {},
   "source": [
    "## Question 1:  Différentiabilité et Gradient"
   ]
  },
  {
   "cell_type": "markdown",
   "metadata": {},
   "source": [
    "**Montrer que J est différentiable:**\n",
    "\n",
    "    * Lax-Milgram\n",
    "        * Formulation variationnele a(u,v) = l(v)\n",
    "        * continuité et coercivité et symétrie\n",
    "        \n",
    "    * Montrer que la differentielle noté y'(h) (si elle existe!) est :\n",
    "        * une application linéaire\n",
    "        * continue.\n",
    "        "
   ]
  },
  {
   "cell_type": "markdown",
   "metadata": {},
   "source": [
    "**Différentielle:**    \n",
    "Soient $u\\in \\cal U_{ad}$ et $h$ telle que $u+\\epsilon h \\in \\cal U_{ad}$ si $\\epsilon > 0$ est assez petit.\n",
    ": $$y´(h) = lim_{\\epsilon \\rightarrow 0} \\frac {y(u+\\epsilon h) - y(u)}{\\epsilon}$$\n",
    "\n",
    "Notons: $ \\delta: = \\frac 1 {\\epsilon} \\big ( y(u+\\epsilon h) - y(u) \\big)$ satisfait: \n",
    "\n",
    "$$\\left\\{\\begin{array}{ll} \n",
    "      \\partial_t \\delta (t,x) - \\partial_{xx} \\delta (t,x) = 0 \\quad  (t,x) \\in ]0,T[ \\times [0,L] \\\\\n",
    "      \\delta(0,x) = 0 \\quad x \\in [0,L]\\\\\n",
    "      \\delta(t,0) = 0 \\quad t \\in [0,T]\\\\\n",
    "      \\partial_x \\delta(t,L) = h(t) \\quad t \\in [0,T] .\n",
    "      \\end{array}\n",
    "    \\right.$$\n",
    "\n",
    "$\\delta$ ne dépend pas de $\\epsilon$ donc $\\delta = y'(h) = y(h)$ par unicité de la solution (Lax-Milgram).\n",
    "\n",
    "Puisque $\\cal U_{ad} \\ni h \\rightarrow y_h = y'(h) \\in H^1(\\Omega) $ est continue alors:\n",
    "\n",
    "$$L^2(\\Omega) \\ni v \\rightarrow y_v = y(v) \\in H^1(\\Omega)$$ est différentiable de différentielle: $$y'(h) = \\delta = y(h)$$ "
   ]
  },
  {
   "cell_type": "markdown",
   "metadata": {},
   "source": [
    "**Calculer le gradient de J en u:**\n",
    "\n",
    "Soient $u \\in \\cal U_{ad}$ solution du problème et  $v \\in \\cal U_{ad}$. par convexité, \n",
    "$$(1-\\epsilon)u^* + \\epsilon v  \\in \\cal U_{ad}$$$\n",
    "\n",
    "On a : $$DJ(u).h = y'(v-u) = y'(h)= lim \\frac 1 {\\epsilon} \\big ( y(u+\\epsilon (u - v)) - y(u) \\big)$$\n",
    "\n",
    "il vient: $$(\\nabla J(u),v-u) = (y(u)- z_d,y(v)-y(u))_{L^2} + \\alpha(u,v-u)_{L^2}$$\n",
    "\n",
    "puis on essaye de réécrire $(y(u)- z_d,y(v)-y(u))_{L^2} $ en fonction de $v-u$\n",
    "\n",
    "On rappel que y'(h) = y'(v-u)=y(v) -y(u) \n",
    "\n",
    "on choisit l'état adjoint p solution d'une équation de la forme:\n",
    "$$ \\partial_t p- \\partial_{xx} p = 0 \\, (F=0)$$\n",
    "\n",
    "On multiplie cette équation par p et on intègre:\n",
    "\n",
    "$$\\int_0^T \\int_0^L (\\partial_t - \\partial_{xx} ) y'(v-u) dx dt = \\int_0^T \\int_0^L (v-u)p dxdt$$\n",
    "\n",
    "On intégre par partie:\n",
    "\n",
    "$$ \\int_0^T \\int_0^L (v-u)p dxdt = $$ $$ \\int_0^L p(T,.)y'(v-u) (T,.) +  \\int_0^T \\int_0^L  (\\partial_t - \\partial_{xx} )p y'(v-u) dx dt -  \\int_0^T \\int_0^L \\partial \\frac {y'(v-u)}{\\partial n}p$$\n",
    "\n",
    "On trouve (F=0):\n",
    "\n",
    "$$ \\int_0^T \\int_0^L (v-u)p dxdt = \\int_0^L p(T,.)y'(v-u) (T,.) -  \\int_0^T \\int_0^L \\partial \\frac {y'(v-u)}{\\partial n}p$$\n",
    "\n",
    "on integre par partie $\\int_0^T \\int_0^L \\partial \\frac {y'(v-u)}{\\partial n}p$\n",
    "\n",
    "$$\\int_0^T \\int_0^L \\partial \\frac {y'(v-u)}{\\partial n}p = \\int_0^T \\int_0^L \\partial \\frac {p}{\\partial n}y'(v-u)$$\n",
    "\n",
    "et on identifie $\\int_0^T \\int_0^L \\partial \\frac {p}{\\partial n}$ à $y(u)-z(u)$ et $P(T,.) = 0$\n",
    "pour avoir $$(\\nabla J(u),v-u) = (y(u)- z_d,y(v)-y(u))_{L^2}$$\n",
    "\n",
    "et donc:\n",
    "\n",
    "$$(\\nabla J(u),v-u) = (y(u)- z_d,y(v)-y(u))_{L^2}+ \\alpha(u,v-u)_{L^2} = \\int_0^T \\int_0^L (v-u)(p+\\alpha u) dxdt $$\n",
    "\n",
    "Où p = p(u) résoud l'équation de la chaleur rétrograde:\n",
    "\n",
    "$$\\left\\{\\begin{array}{ll} \n",
    "      \\partial_t P (t,x) - \\partial_{xx} P (t,x) = 0 \\quad t \\in ]0,T[ \\times [0,L] \\\\\n",
    "      P(T,x) = 0 \\quad x \\in [0,L]\\\\\n",
    "      P(t,0) = 0 \\quad t \\in [0,T] \\\\\n",
    "      \\partial_x P(t,L) = Y_u(t,L) - z_d(t) \\quad t \\in [0,T].\n",
    "      \\end{array}\n",
    "    \\right.$$"
   ]
  },
  {
   "cell_type": "markdown",
   "metadata": {},
   "source": [
    "$$\\nabla J(u) = p(.,L)+ \\alpha u(.)$$"
   ]
  },
  {
   "cell_type": "markdown",
   "metadata": {},
   "source": [
    "## Question 2:   Méthode numérique de résolution de l’équation de la chaleur"
   ]
  },
  {
   "cell_type": "markdown",
   "metadata": {},
   "source": [
    "**Description:**"
   ]
  },
  {
   "cell_type": "markdown",
   "metadata": {},
   "source": [
    "Pour résoudre numériquement les EDP, on propose d’utiliser des méthodes de type différences finies centrées en espace et décentrées en amont en temps. Pour cela on discrétise l’intervalle [0, L] en $N_x + 1$ points, et [0, T] en $N_t + 1$ points. Introduisons $∆x = \\frac {L}{N_x}$ et $∆t =\\frac {T}{N_t}$, les pas d’espace et de temps de sorte que:\n",
    "$$x_i = i∆x, i ∈ [0,N_x], \\, \\, et \\quad t^k = k∆t, k ∈ [0,N_t].$$\n",
    "\n",
    "Soit $y^k_i ≈ y(x_i, t^k)$ pour tout $(i, k) ∈ [0,N_x]\\times[0,N_t]$. Des développements de Taylor fournissent:\n",
    "\n",
    "**Schéma centrées en espace:**\n",
    "$$y_{xx}(x_i,t^k) ≈ \\frac {y_{i+1}^k - 2y_{i}^k + y_{i-1}^k}{\\Delta x^2}$$\n",
    "\n",
    "**Schéma décentrées en amont en temps:**\n",
    "$$y_{t}(x_i,t^k) ≈ \\frac {y_{i}^k - y_{i}^{k-1}}{\\Delta t}$$\n",
    "\n",
    "On rappelle que le schéma implicite est inconditionnellement stable pour toute valeur de ∆t.\n",
    "\n",
    "**Schéma numérique pour le problème direct (équation de la chaleur):**\n",
    "Pour le problème suivant:\n",
    "\n",
    "$$\\left\\{\\begin{array}{ll} \n",
    "      \\partial_t y_u (t,x) - \\partial_{xx} y_u (t,x) = 0 \\quad (t,x) \\in ]0,T[ \\times [0,L] \\\\\n",
    "      y_u(0,x) = 0 \\quad x \\in [0,L]\\\\\n",
    "      y_u(t,0) = 0 \\quad t \\in [0,T] \\text{(condition de Dirichlet homogène)}\\\\\n",
    "      \\partial_x y_u(t,L) = u(t) \\quad t \\in [0,T] \\text{(condition de Neumann non-homogène)}.\n",
    "      \\end{array}\n",
    "    \\right.$$\n",
    "    \n",
    "On obtient le schéma numérique:\n",
    "\n",
    "$$\\frac {y_{i}^k - y_{i}^{k-1}}{\\Delta t} + \\frac {-y_{i+1}^k + 2y_{i}^k - y_{i-1}^k}{\\Delta x^2} = 0$$\n",
    "\n",
    "De plus, en utilisant la condition de Dirichlet $y_0 = 0$, on a:\n",
    "\n",
    "$$\\frac {y_{1}^k - y_{1}^{k-1}}{\\Delta t} + \\frac {2y_{1}^k - y_{2}^k}{\\Delta x^2} = 0$$\n",
    "\n",
    "Pour le bord Neumann, on utilise une approximation de la dérivée à l’ordre 1. Par développement\n",
    "de Taylor autour de $y^k_{N+1}$  on obtient $y^k_{N+1}≈ y^k_{N} +\\delta_x y(L,t^k) \\Delta x $\n",
    "et en ré-injectant ce résultat dans le schéma, on a alors pour i = N:\n",
    "\n",
    "$$\\frac {y_{N}^k - y_{N}^{k-1}}{\\Delta t} + \\frac {-y_{N-1}^k + y_{N}^k}{\\Delta x^2} = \\frac {u(t^k)}{\\Delta x}$$\n",
    "\n",
    "Désignons par I la matrice identité, le schéma s’écrit donc sous forme matricielle:\n",
    "\n",
    "$$Y^k - Y^{k-1} + \\frac {\\Delta t}{\\Delta x^2}AY^k = \\frac {\\Delta t}{\\Delta x} b^k, \\quad \\forall k \\in [0,N_t]$$\n",
    "\n",
    "Soit:\n",
    "\n",
    "$$\\big( I + \\frac {\\Delta t}{\\Delta x^2}A \\big)Y^k = \\frac {\\Delta t}{\\Delta x}b^k + Y^{k-1}, \\quad \\forall k \\in [0,N_t]$$\n",
    "\n",
    "et:\n",
    "\n",
    "$$Y^k = \\begin{bmatrix}\n",
    "    y_1^k \\\\\n",
    "    \\vdots \\\\\n",
    "    y_i^k  \\\\\n",
    "    \\vdots \\\\\n",
    "    y_N^k\n",
    "    \\end{bmatrix}, \\; A = \\begin{bmatrix}\n",
    "                        2 & -1 & 0 & \\ldots &0\\\\\n",
    "                         -1 &  2 & \\ddots &\\ddots & \\vdots\\\\\n",
    "                        0 & \\ddots& \\ddots & \\ddots&0\\\\\n",
    "                        \\vdots & \\ddots& \\ddots & 2&-1 \\\\\n",
    "                        0 & \\ldots & 0 & -1&1\n",
    "                        \\end{bmatrix}, \\; et \\quad b^k =  \\begin{bmatrix}\n",
    "                                                                0\\\\\n",
    "                                                                \\vdots \\\\\n",
    "                                                                0  \\\\\n",
    "                                                                \\vdots \\\\\n",
    "                                                                u(t^k)\n",
    "                                                                \\end{bmatrix} $$\n",
    "\n",
    "\n"
   ]
  },
  {
   "cell_type": "markdown",
   "metadata": {},
   "source": [
    "**Implémentaion:**"
   ]
  },
  {
   "cell_type": "markdown",
   "metadata": {},
   "source": [
    "On stock la matrice creuse $\\big( I + \\frac {\\Delta t}{\\Delta x^2}A \\big)$ en format `csr` dans la methode `A_csr()` de la class `FD_heat` ci-dessous. On fait de même pour $\\frac {\\Delta t}{\\Delta x}b^k $ pour chaque itération dans la méthode `b_csr()` et on résoud le probléme linéaire pour chaque itération en temps: `self.iter += 1`."
   ]
  },
  {
   "cell_type": "code",
   "execution_count": 301,
   "metadata": {},
   "outputs": [],
   "source": [
    "class FD_heat:\n",
    "    def __init__(self,Nx,Nt,L,T,u=np.ones(10)):\n",
    "        #assert Nx == Nt,\"les dimension doit être égales!\"\n",
    "        self.Nx = Nx\n",
    "        self.Nt = Nt\n",
    "        self.T = T\n",
    "        self.L = L\n",
    "        self.u = u\n",
    "        \n",
    "        self.start()\n",
    "\n",
    "    def start(self):\n",
    "        self.dt = self.T/self.Nt\n",
    "        self.dx = self.L/self.Nx\n",
    "        self.iter = 1\n",
    "        self.Y = np.zeros((self.Nx,self.Nt)) #y(0,x) = y(t,0)=0\n",
    "        self.A_csr()\n",
    "        \n",
    "    def verification(self,cst):\n",
    "        self.Y[:,0]=cst*np.linspace(0,L,self.Nx) #y=cst*x ->y(0,x)=cst*x\n",
    "        self.u = cst*np.ones(self.Nt) #dy/dx = cst\n",
    "\n",
    "    def A_csr(self):\n",
    "        \"\"\"i=j\"\"\"\n",
    "        diag = 2*np.ones(self.Nx)\n",
    "        diag[-1]=1\n",
    "        diag =diag*self.dt/self.dx**2 + 1\n",
    "        \n",
    "        \"\"\"i=j+1\"\"\"\n",
    "        diagsup = -1*np.ones(self.Nx-1)\n",
    "        diagsup *=self.dt/self.dx**2 \n",
    "        \"\"\"i=j-1\"\"\"\n",
    "        diaginf = -1*np.ones(self.Nx-1)\n",
    "        diaginf *=self.dt/self.dx**2 \n",
    "        self.A = spsp.diags([diag,diagsup,diaginf],[0,1,-1,],format=\"csr\")\n",
    "        \n",
    "    def next_iter(self):\n",
    "        self.iter = self.iter + 1\n",
    "        \n",
    "    def b_csr(self):\n",
    "        self.b = np.zeros(shape=[self.Nx,1])\n",
    "        self.b[-1] = self.u[self.iter]*self.dt/self.dx\n",
    "        #self.b = sparse.csr_matrix(self.b) \n",
    "        \n",
    "    '''solve for the kth time step'''\n",
    "    def solve(self):\n",
    "        \n",
    "        self.b_csr()\n",
    "        \n",
    "        second_terme = self.b + self.Y[:,self.iter-1:self.iter]\n",
    "       \n",
    "        self.Y[:,self.iter] = spsolve(self.A,second_terme)\n",
    "        \n",
    "        self.next_iter()\n",
    "        \n",
    "        return self\n",
    "    "
   ]
  },
  {
   "cell_type": "markdown",
   "metadata": {},
   "source": [
    "**Vérifcation (cas stationnaire):**\n",
    "\n",
    "\n",
    "Soit $$y(t,x) = 5x \\quad \\forall (t,x) \\in ]0,T[\\times]0,L[$$\n",
    "\n",
    "avec: $$ y(t,0) = 0$$\n",
    "et : $$y(0,x) = 5x$$\n",
    "On injecte $y(t,x)$ dans $\\partial_t y_u (t,x) - \\partial_{xx} y_u (t,x)$\n",
    "\n",
    "Soit:\n",
    "\n",
    "$$\\partial_t y_u (t,x) - \\partial_{xx} y_u (t,x) = 0$$\n",
    "\n",
    "Il ne reste qu'injecter la solution qu'on a proposé dans la condition de neumann afin d'obtenir un contrôl $u(.)$ pour tester et comparer avec la solution différence finie.\n",
    "\n",
    "$$u(t) = \\partial_xy_u(t,L) = 5$$\n",
    "\n",
    "la fonction en dessous 'test_FD_heat' fait appel à une méthode `verification()`de la class `FD_heat` qui a pour objective de réinitialiser la solution pour satisfaire le problème. On compare le résultat avec la solution exacte affiché en dessous."
   ]
  },
  {
   "cell_type": "code",
   "execution_count": 302,
   "metadata": {},
   "outputs": [],
   "source": [
    "def test_FD_heat(Nx,Nt,L,T,u,cst,verif = True):\n",
    "\n",
    "    test = FD_heat(Nx,Nt,L,T,u)\n",
    "    '''version de verification'''\n",
    "    if verif:\n",
    "        test.verification(cst)\n",
    "    \n",
    "    '''solution differece finies'''\n",
    "    for i in range(1,Nt):\n",
    "        test = test.solve()\n",
    "    sol_FD = test.Y\n",
    "        \n",
    "    '''solution exacte'''\n",
    "    sol_exact = np.zeros((Nx,Nt))\n",
    "    for i in range(Nt):\n",
    "        sol_exact[:,i]= cst*np.linspace(0,L,Nx)\n",
    "    \n",
    "    if verif:\n",
    "        print(\"\\n------------------la solution exacte est ------------------\\n\",sol_exact )\n",
    "    print(\"\\n--------------la solution différences finies---------------\\n\",sol_FD )\n",
    "    return sol_exact,sol_FD"
   ]
  },
  {
   "cell_type": "markdown",
   "metadata": {},
   "source": [
    "**Initialisation:**"
   ]
  },
  {
   "cell_type": "code",
   "execution_count": 304,
   "metadata": {},
   "outputs": [
    {
     "name": "stdout",
     "output_type": "stream",
     "text": [
      "\n",
      "------------------la solution exacte est ------------------\n",
      " [[0.         0.         0.         0.        ]\n",
      " [1.66666667 1.66666667 1.66666667 1.66666667]\n",
      " [3.33333333 3.33333333 3.33333333 3.33333333]\n",
      " [5.         5.         5.         5.        ]]\n",
      "\n",
      "--------------la solution différences finies---------------\n",
      " [[0.         1.054106   1.18852853 1.22248069]\n",
      " [1.66666667 2.23997524 2.39385988 2.4492054 ]\n",
      " [3.33333333 3.49750806 3.6184268  3.6828483 ]\n",
      " [5.         4.77556272 4.85810857 4.92454388]]\n"
     ]
    }
   ],
   "source": [
    "Nx = 4\n",
    "Nt = 4\n",
    "L = 1\n",
    "T = 2\n",
    "u = 5*np.ones(Nt)\n",
    "sol_exact,sol_FD = test_FD_heat(Nx,Nt,L,T,u,5)"
   ]
  },
  {
   "cell_type": "markdown",
   "metadata": {},
   "source": [
    "**Commentaire:**\n",
    "    \n",
    "La métode marche correctement! pour plus de précision il faut augmenter le nombre de points de discrétisation."
   ]
  },
  {
   "cell_type": "markdown",
   "metadata": {},
   "source": [
    "## Question 3:"
   ]
  },
  {
   "cell_type": "markdown",
   "metadata": {},
   "source": [
    "Appelons p, l’état adjoint introduit pour calculer le gradient de J. On appelle q la fonction\n",
    "définie sur [0, T] × [0, L] par q(t, x) = p(T − t, x). Quelle est l’équation satisfaite par q ?"
   ]
  },
  {
   "cell_type": "markdown",
   "metadata": {},
   "source": [
    "Soit P l'adjoint qui résoud le problème adjoint suivant:\n",
    "\n",
    "$$\\left\\{\\begin{array}{ll} \n",
    "      \\partial_t P (t,x) - \\partial_{xx} P (t,x) = 0 \\quad t \\in ]0,T[ \\times [0,L] \\\\\n",
    "      P(T,x) = 0 \\quad x \\in [0,L]\\\\\n",
    "      P(t,0) = 0 \\quad t \\in [0,T] \\\\\n",
    "      \\partial_x P(t,L) = Y_u(t,L) - z_d(t) \\quad t \\in [0,T].\n",
    "      \\end{array}\n",
    "    \\right.$$\n",
    "\n",
    "$\\iff$\n",
    "\n",
    "$$\\left\\{\\begin{array}{ll} \n",
    "      \\partial_t P (T − t,x) - \\partial_{xx} P (T − t,x) = 0 \\quad t \\in ]0,T[ \\times [0,L] \\\\\n",
    "      P(T,x) = 0 \\quad x \\in [0,L]\\\\\n",
    "      P(T − t,0) = 0 \\quad t \\in [0,T] \\\\\n",
    "      \\partial_x P(T − t,L) = Y_u(T − t,L) - z_d(T − t) \\quad t \\in [0,T].\n",
    "      \\end{array}\n",
    "    \\right.$$\n",
    "    \n",
    "Soit q(t, x) = P(T − t, x), alors en particulier q (0,x) = P(T,x) et q satisfait l'équation suivante:\n",
    "\n",
    "$$\\left\\{\\begin{array}{ll} \n",
    "      \\partial_t  q(t, x) - \\partial_{xx}  q(t, x) = 0 \\quad t \\in ]0,T[ \\times [0,L] \\\\\n",
    "      q(0, x) = 0 \\quad x \\in [0,L]\\\\\n",
    "      q(t, x) = 0 \\quad t \\in [0,T] \\\\\n",
    "      \\partial_x  q(t, L) = Y_u(T − t,L) - z_d(T − t) \\quad t \\in [0,T].\n",
    "      \\end{array}\n",
    "    \\right.$$\n",
    "    \n",
    "Donc q satisfait une équation de chaleur du même type que le problème direct et par conséquent p(x,t) est solution de l'équation de chaleur rétrograde.\n",
    "\n",
    "Par analogie on a donc:\n",
    "\n",
    "$$\\big( I + \\frac {\\Delta t}{\\Delta x^2}A \\big)q^k = \\frac {\\Delta t}{\\Delta x}c^k + q^{k-1}, \\quad \\forall k \\in [0,N_t]$$\n",
    "\n",
    "et:\n",
    "\n",
    "$$q^k = \\begin{bmatrix}\n",
    "    q_1^k \\\\\n",
    "    \\vdots \\\\\n",
    "    q_i^k  \\\\\n",
    "    \\vdots \\\\\n",
    "    q_N^k\n",
    "    \\end{bmatrix}, \\; A = \\begin{bmatrix}\n",
    "                        2 & -1 & 0 & \\ldots &0\\\\\n",
    "                         -1 &  2 & \\ddots &\\ddots & \\vdots\\\\\n",
    "                        0 & \\ddots& \\ddots & \\ddots&0\\\\\n",
    "                        \\vdots & \\ddots& \\ddots & 2&-1 \\\\\n",
    "                        0 & \\ldots & 0 & -1&1\n",
    "                        \\end{bmatrix}, \\; et \\quad c^k =  \\begin{bmatrix}\n",
    "                                                                0\\\\\n",
    "                                                                \\vdots \\\\\n",
    "                                                                0  \\\\\n",
    "                                                                \\vdots \\\\\n",
    "                                                                Y_u(T-t^k) - z_d((T-t^k))\n",
    "                                                                \\end{bmatrix} $$\n",
    "\n",
    "**Méthode de calcul du gradient de J en u:**\n",
    " * d'abord résoudre le problème direct -> Y\n",
    " * ensuite résoudre le problème rétrograde -> q -> P\n",
    " * pour finalement pouvoir calculer le gradient "
   ]
  },
  {
   "cell_type": "markdown",
   "metadata": {},
   "source": [
    "## Question 4: Résoudre numériquement le problème (P)"
   ]
  },
  {
   "cell_type": "markdown",
   "metadata": {},
   "source": [
    "**Initialisation:**\n",
    "    * Calculer Y (solution de l'équation de la chaleur pour un `u` initial)\n",
    "    * Calculer l'adjoint P (solution de l'équation d'adjoint)\n",
    "    * Calcule des termes de normalisation la fonctionnelle (la normalisation s'effectue ddans chaque calcul du gradient ou de la fonctionnelle)\n",
    "    *Valeur initiale du critère d'arrêt de la boucle suivante\n",
    "    \n",
    "**Répéter tant que le critère d'arrêt n'est pas satisfait:**\n",
    "    * Calcul du gradient de la fonctionnelle en u\n",
    "    * Recalculer la solution Y à partir de la descente du gradient `u - rho * gradient`\n",
    "    * Calculer le critère d'arrêt de la boucle pour trouver un `rho` optimal\n",
    "    * Faire une boucle sur `rho` afin d'en trouver la valeure optimale\n",
    "    * Calculer Y (solution de l'équation de la chaleur pour un `u` initial)\n",
    "    * Calculer l'adjoint P (solution de l'équation d'adjoint)\n",
    "    * Calculer la nouvelle valeure du critère d'arrêt (i.e. erreur relative de la fonctionnelle)\n",
    "    \n",
    "\n",
    "On rappel que:\n",
    "\n",
    "$$\\nabla J(u) = p(.,L)+ \\alpha u(.)$$"
   ]
  },
  {
   "cell_type": "code",
   "execution_count": 158,
   "metadata": {},
   "outputs": [],
   "source": [
    "def gradient_J(sol_p,u_vec,alpha = 1):\n",
    "    \n",
    "    p_L = sol_p[-1,:].reshape(-1)\n",
    "    u_vec = u_vec.reshape(-1)\n",
    "    gradient = sol_p[-1,:] + alpha*u_vec\n",
    "    \n",
    "    return gradient\n"
   ]
  },
  {
   "cell_type": "code",
   "execution_count": 159,
   "metadata": {},
   "outputs": [],
   "source": [
    "def solve_Y(Nx,Nt,L,T,u):\n",
    "\n",
    "    FD = FD_heat(Nx,Nt,L,T,u)\n",
    "    \n",
    "    '''solution differece finies'''\n",
    "    for i in range(1,Nt):\n",
    "        FD = FD.solve()\n",
    "    sol_y = FD.Y\n",
    "\n",
    "    #print(\"\\n--------------la solution différences finies de Y---------------\\n\",sol_FD )\n",
    "    \n",
    "    return sol_y"
   ]
  },
  {
   "cell_type": "code",
   "execution_count": 160,
   "metadata": {},
   "outputs": [],
   "source": [
    "def solve_P(sol_y,Nx,Nt,L,T,zd):\n",
    "    \n",
    "    '''changement de variable'''\n",
    "    sol_y_prime = sol_y[:,::-1]#t'->T-t\n",
    "    y_z = sol_y_prime[-1,:].reshape(-1)\n",
    "    zd = zd.reshape(-1)\n",
    "    y_z = y_z - zd\n",
    "    \n",
    "    FD = FD_heat(Nx,Nt,L,T,y_z)\n",
    "    '''solution differece finies'''\n",
    "    for i in range(1,Nt):\n",
    "        FD = FD.solve()\n",
    "    sol_q = FD.Y\n",
    "    \n",
    "    '''rechangement de variable'''\n",
    "    sol_p = sol_q[:,::-1]\n",
    "\n",
    "    #print(\"\\n--------------la solution différences finies de P---------------\\n\",sol_p )\n",
    "    \n",
    "    return sol_p"
   ]
  },
  {
   "cell_type": "markdown",
   "metadata": {},
   "source": [
    "**Calcule de $J(u)$ (méthode des réctangles):**"
   ]
  },
  {
   "cell_type": "code",
   "execution_count": 170,
   "metadata": {},
   "outputs": [],
   "source": [
    "def J(sol_y,zd,u,T,alpha=1):\n",
    "    somme = 0\n",
    "    assert len(u)==len(zd),\"Problème de dimension!\"\n",
    "    nb = len(u)\n",
    "    h = T / nb\n",
    "    Y_L = sol_y[-1,:]\n",
    "    Y_L = Y_L.reshape(-1)\n",
    "    for i in range(0, nb):\n",
    "        somme += ((Y_L[i] - zd[i])**2)*h/2 +alpha*u[i]**2* h/2\n",
    "       \n",
    "    return somme"
   ]
  },
  {
   "cell_type": "code",
   "execution_count": 192,
   "metadata": {},
   "outputs": [],
   "source": [
    "def gradient_edp(Nx,Nt,L,T,zd,u,alpha=1):\n",
    "    liste_J = []\n",
    "    \"\"\"initialisation de Y puis P et L (normalisé)\"\"\"\n",
    "    sol_y = solve_Y(Nx,Nt,L,T,u)\n",
    "    sol_p = solve_P(sol_y,Nx,Nt,L,T,zd)\n",
    "    #L_g,L_f = L_avg(SIR,u,cas)#constantes de normalisation\n",
    "    #print(L_g,L_f)\n",
    "\n",
    "    liste_J.append(J(sol_y,zd,u,T,alpha))\n",
    "    \n",
    "    \"\"\"Résoudre inf_u J\"\"\"\n",
    "    epstol = 1e-11\n",
    "    err = 1\n",
    "    rho = 2\n",
    "    iteration=0\n",
    "    iterMax = 100\n",
    "    delta = 1\n",
    "    while err > epstol and iteration < iterMax:\n",
    "        \"\"\"calculer rho \"\"\"\n",
    "        cpt = 0\n",
    "        gradient = gradient_J(sol_p,u,alpha)\n",
    "        sol_y = solve_Y(Nx,Nt,L,T,u - rho * gradient)\n",
    "        \n",
    "        delta = J(sol_y,zd,u,T,alpha=1) - liste_J[-1]\n",
    "        while cpt < 100 and delta >= 0:\n",
    "            rho /= 1.3\n",
    "            sol_y2 = solve_Y(Nx,Nt,L,T,u - rho * gradient)\n",
    "            delta = J(sol_y2,zd,u,T,alpha) - liste_J[-1]\n",
    "            cpt += 1\n",
    "\n",
    "        \"\"\" mise à jour de u \"\"\"\n",
    "        u = u - rho * gradient\n",
    "        \n",
    "        '''calcul de y(u) et de l'adjoint p'''\n",
    "        sol_y = solve_Y(Nx,Nt,L,T,u - rho * gradient)\n",
    "        sol_p = solve_P(sol_y,Nx,Nt,L,T,zd)\n",
    "        \n",
    "        liste_J.append(J(sol_y,zd,u,T,alpha))\n",
    "        err = abs((liste_J[-1] - liste_J[-2]) / liste_J[-2])\n",
    "        iteration += 1\n",
    "\n",
    "    print(\"on a fait \",iteration, \"pour converger vers u optimale\")\n",
    "    return sol_y,u,liste_J,iteration"
   ]
  },
  {
   "cell_type": "code",
   "execution_count": 219,
   "metadata": {},
   "outputs": [],
   "source": [
    "Nx = 100\n",
    "Nt = 100\n",
    "L = 2\n",
    "T = 0.1\n",
    "u = 2*np.ones(Nt)\n",
    "zd = np.ones(Nt)\n",
    "alpha = 1"
   ]
  },
  {
   "cell_type": "code",
   "execution_count": 220,
   "metadata": {},
   "outputs": [
    {
     "name": "stdout",
     "output_type": "stream",
     "text": [
      "on a fait  4 pour converger vers u optimale\n"
     ]
    }
   ],
   "source": [
    "sol_y,u,liste_J,iteration = gradient_edp(Nx,Nt,L,T,zd,u)"
   ]
  },
  {
   "cell_type": "markdown",
   "metadata": {},
   "source": [
    "**Le contôle optimale:**"
   ]
  },
  {
   "cell_type": "code",
   "execution_count": 218,
   "metadata": {},
   "outputs": [
    {
     "data": {
      "image/png": "[encoded data removed]",
      "text/plain": [
       "<Figure size 648x432 with 1 Axes>"
      ]
     },
     "metadata": {
      "needs_background": "light"
     },
     "output_type": "display_data"
    }
   ],
   "source": [
    "fig, ax = plt.subplots(figsize=(9,6))\n",
    "ax.set(xlabel='Temps', ylabel=r'u ', \\\n",
    "       title= \"Le contrôle optimal\")\n",
    "ax.plot(np.linspace(0,T,Nt),u,label=r'u pour $\\alpha$='+str(alpha))\n",
    "ax.grid(True)\n",
    "ax.legend(loc='best',fontsize=15);"
   ]
  },
  {
   "cell_type": "markdown",
   "metadata": {},
   "source": [
    "**Le critère $J$:**"
   ]
  },
  {
   "cell_type": "code",
   "execution_count": 201,
   "metadata": {},
   "outputs": [
    {
     "data": {
      "image/png": "[encoded data removed]",
      "text/plain": [
       "<Figure size 648x432 with 1 Axes>"
      ]
     },
     "metadata": {
      "needs_background": "light"
     },
     "output_type": "display_data"
    }
   ],
   "source": [
    "fig, ax = plt.subplots(figsize=(9,6))\n",
    "ax.set(xlabel='Itération', ylabel= r\"Critère $J_{\\alpha}$\",\\\n",
    "       title= \"Critère J\")\n",
    "ax.plot(range(iteration+1),liste_J,label=r'J pour $\\alpha$='+str(alpha))\n",
    "ax.grid(True)\n",
    "ax.legend(loc='best',fontsize=15);"
   ]
  },
  {
   "cell_type": "markdown",
   "metadata": {},
   "source": [
    "## Question 5: Tester l'algorithme"
   ]
  },
  {
   "cell_type": "markdown",
   "metadata": {},
   "source": [
    "**Tester sur diverses valeurs de $\\alpha$:**"
   ]
  },
  {
   "cell_type": "code",
   "execution_count": 264,
   "metadata": {},
   "outputs": [],
   "source": [
    "Nx = 100\n",
    "Nt = 100\n",
    "L = 2\n",
    "T = 2\n",
    "u = 1*np.ones(Nt)\n",
    "zd = np.ones(Nt)\n",
    "alphas = [0,0.01,0.5,1,2,4,1000]"
   ]
  },
  {
   "cell_type": "code",
   "execution_count": 265,
   "metadata": {},
   "outputs": [
    {
     "name": "stdout",
     "output_type": "stream",
     "text": [
      "on a fait  100 pour converger vers u optimale\n",
      "on a fait  1 pour converger vers u optimale\n",
      "on a fait  1 pour converger vers u optimale\n",
      "on a fait  1 pour converger vers u optimale\n",
      "on a fait  1 pour converger vers u optimale\n",
      "on a fait  1 pour converger vers u optimale\n",
      "on a fait  1 pour converger vers u optimale\n"
     ]
    },
    {
     "data": {
      "image/png": "[encoded data removed]",
      "text/plain": [
       "<Figure size 648x432 with 2 Axes>"
      ]
     },
     "metadata": {
      "needs_background": "light"
     },
     "output_type": "display_data"
    }
   ],
   "source": [
    "fig, (ax,ax1) = plt.subplots(nrows=1, ncols=2,figsize=(9,6))\n",
    "for alpha in alphas:\n",
    "    sol_y,u,liste_J,iteration = gradient_edp(Nx,Nt,L,T,zd,u)\n",
    "    \n",
    "    '''controle'''\n",
    "    ax.set(xlabel='Temps', ylabel=r'u ', \\\n",
    "           title= \"Le contrôle optimal\")\n",
    "    ax.plot(np.linspace(0,T,Nt),u,label=r'u pour $\\alpha$='+str(alpha))\n",
    "    ax.grid(True)\n",
    "    ax.legend(loc='best',fontsize=15);\n",
    "    \n",
    "    '''J'''\n",
    "    ax1.set(xlabel='Itération', ylabel= r\"Critère $J_{\\alpha}$\",\\\n",
    "           title= \"Critère J\")\n",
    "    ax1.plot(range(iteration+1),liste_J,label=r'J pour $\\alpha$='+str(alpha))\n",
    "    ax1.grid(True)\n",
    "    ax1.legend(loc='best',fontsize=15);"
   ]
  },
  {
   "cell_type": "markdown",
   "metadata": {},
   "source": [
    "**Commentaire:**"
   ]
  },
  {
   "cell_type": "markdown",
   "metadata": {},
   "source": [
    "$\\alpha$ semble avoir une influence sur la convergeance sans perturber la solution du problème. En effet, quand $\\alpha > 0 $ on covergence en une iteration."
   ]
  },
  {
   "cell_type": "markdown",
   "metadata": {},
   "source": [
    "**Tester sur diverses valeurs de $T$:**"
   ]
  },
  {
   "cell_type": "code",
   "execution_count": 266,
   "metadata": {},
   "outputs": [],
   "source": [
    "Nx = 100\n",
    "Nt = 100\n",
    "L = 2\n",
    "Ts = [0.1,0.5,1,2,10]\n",
    "u = 1*np.ones(Nt)\n",
    "zd = np.ones(Nt)\n",
    "alpha = 1"
   ]
  },
  {
   "cell_type": "code",
   "execution_count": 267,
   "metadata": {},
   "outputs": [
    {
     "name": "stdout",
     "output_type": "stream",
     "text": [
      "on a fait  1 pour converger vers u optimale\n",
      "on a fait  1 pour converger vers u optimale\n",
      "on a fait  1 pour converger vers u optimale\n",
      "on a fait  100 pour converger vers u optimale\n",
      "on a fait  48 pour converger vers u optimale\n"
     ]
    },
    {
     "data": {
      "image/png": "[encoded data removed]",
      "text/plain": [
       "<Figure size 648x432 with 2 Axes>"
      ]
     },
     "metadata": {
      "needs_background": "light"
     },
     "output_type": "display_data"
    }
   ],
   "source": [
    "fig, (ax,ax1) = plt.subplots(nrows=1, ncols=2,figsize=(9,6))\n",
    "for T in Ts:\n",
    "    sol_y,u,liste_J,iteration = gradient_edp(Nx,Nt,L,T,zd,u)\n",
    "    \n",
    "    '''controle'''\n",
    "    ax.set(xlabel='Temps', ylabel=r'u ', \\\n",
    "           title= \"Le contrôle optimal\")\n",
    "    ax.plot(np.linspace(0,T,Nt),u,label=r'u pour $T$='+str(T))\n",
    "    ax.grid(True)\n",
    "    ax.legend(loc='best',fontsize=15);\n",
    "    \n",
    "    '''J'''\n",
    "    ax1.set(xlabel='Itération', ylabel= r\"Critère $J_{T}$\",\\\n",
    "           title= \"Critère J\")\n",
    "    ax1.plot(range(iteration+1),liste_J,label=r'J pour $T$='+str(T))\n",
    "    ax1.grid(True)\n",
    "    ax1.legend(loc='best',fontsize=15);"
   ]
  },
  {
   "cell_type": "markdown",
   "metadata": {},
   "source": [
    "**Commentaire:**"
   ]
  },
  {
   "cell_type": "markdown",
   "metadata": {},
   "source": [
    "T a une grande influence sur la convergeance et la solution u également. "
   ]
  },
  {
   "cell_type": "markdown",
   "metadata": {},
   "source": [
    "**Tester sur diverses valeurs de $z_d$:**"
   ]
  },
  {
   "cell_type": "code",
   "execution_count": 269,
   "metadata": {},
   "outputs": [],
   "source": [
    "Nx = 100\n",
    "Nt = 100\n",
    "L = 2\n",
    "T = 0.1\n",
    "u = 1*np.ones(Nt)\n",
    "zds = [0,1,2,5,10]\n",
    "alpha = 1"
   ]
  },
  {
   "cell_type": "code",
   "execution_count": 270,
   "metadata": {},
   "outputs": [
    {
     "name": "stdout",
     "output_type": "stream",
     "text": [
      "on a fait  100 pour converger vers u optimale\n",
      "on a fait  3 pour converger vers u optimale\n",
      "on a fait  1 pour converger vers u optimale\n",
      "on a fait  3 pour converger vers u optimale\n",
      "on a fait  3 pour converger vers u optimale\n"
     ]
    },
    {
     "data": {
      "image/png": "[encoded data removed]",
      "text/plain": [
       "<Figure size 648x432 with 2 Axes>"
      ]
     },
     "metadata": {
      "needs_background": "light"
     },
     "output_type": "display_data"
    }
   ],
   "source": [
    "fig, (ax,ax1) = plt.subplots(nrows=1, ncols=2,figsize=(9,6))\n",
    "for zd_ in zds:\n",
    "    zd = zd_*np.ones(Nt)\n",
    "    \n",
    "    sol_y,u,liste_J,iteration = gradient_edp(Nx,Nt,L,T,zd,u)\n",
    "    \n",
    "    '''controle'''\n",
    "    ax.set(xlabel='Temps', ylabel=r'u ', \\\n",
    "           title= \"Le contrôle optimal\")\n",
    "    ax.plot(np.linspace(0,T,Nt),u,label=r'u pour $zd$='+str(zd_))\n",
    "    ax.grid(True)\n",
    "    ax.legend(loc='best',fontsize=15);\n",
    "    \n",
    "    '''J'''\n",
    "    ax1.set(xlabel='Itération', ylabel= r\"Critère $J_{zd}$\",\\\n",
    "           title= \"Critère J\")\n",
    "    ax1.plot(range(iteration+1),liste_J,label=r'J pour $zd$='+str(zd_))\n",
    "    ax1.grid(True)\n",
    "    ax1.legend(loc='best',fontsize=15);"
   ]
  },
  {
   "cell_type": "markdown",
   "metadata": {},
   "source": [
    "**Commentaire:**"
   ]
  },
  {
   "cell_type": "markdown",
   "metadata": {},
   "source": [
    "Quand $z_d$ est grand on a convergeance rapide comparement à zd = 0 par exemple qui demande plus que 100 itérations.Ceci est dû au fait que, la fonctionnelle est proche de 0."
   ]
  },
  {
   "cell_type": "markdown",
   "metadata": {},
   "source": [
    "**Éxaminons un cas où $z_d$ est trés grand:**"
   ]
  },
  {
   "cell_type": "code",
   "execution_count": 310,
   "metadata": {},
   "outputs": [],
   "source": [
    "Nx = 100\n",
    "Nt = 100\n",
    "L = 2\n",
    "T = 0.1\n",
    "u = 10*np.ones(Nt)\n",
    "zds = [100]\n",
    "alpha = 1"
   ]
  },
  {
   "cell_type": "code",
   "execution_count": 311,
   "metadata": {},
   "outputs": [
    {
     "name": "stdout",
     "output_type": "stream",
     "text": [
      "on a fait  3 pour converger vers u optimale\n"
     ]
    },
    {
     "data": {
      "image/png": "[encoded data removed]",
      "text/plain": [
       "<Figure size 648x432 with 2 Axes>"
      ]
     },
     "metadata": {
      "needs_background": "light"
     },
     "output_type": "display_data"
    }
   ],
   "source": [
    "fig, (ax,ax1) = plt.subplots(nrows=1, ncols=2,figsize=(9,6))\n",
    "for zd_ in zds:\n",
    "    zd = zd_*np.ones(Nt)\n",
    "    \n",
    "    sol_y,u,liste_J,iteration = gradient_edp(Nx,Nt,L,T,zd,u)\n",
    "    \n",
    "    '''controle'''\n",
    "    ax.set(xlabel='Temps', ylabel=r'u ', \\\n",
    "           title= \"Le contrôle optimal\")\n",
    "    ax.plot(np.linspace(0,T,Nt),u,label=r'u pour $zd$='+str(zd_))\n",
    "    ax.grid(True)\n",
    "    ax.legend(loc='best',fontsize=15);\n",
    "    \n",
    "    '''J'''\n",
    "    ax1.set(xlabel='Itération', ylabel= r\"Critère $J_{zd}$\",\\\n",
    "           title= \"Critère J\")\n",
    "    ax1.plot(range(iteration+1),liste_J,label=r'J pour $zd$='+str(zd_))\n",
    "    ax1.grid(True)\n",
    "    ax1.legend(loc='best',fontsize=15);"
   ]
  },
  {
   "cell_type": "markdown",
   "metadata": {},
   "source": [
    "**Commentaire:**\n",
    "L'algo converge rapidement mais la fonctionnelle ne semble plus différentiable!!?"
   ]
  },
  {
   "cell_type": "markdown",
   "metadata": {},
   "source": [
    "**Vérifions inversement pour un tel contrôle si on retrouve y = zd ?**"
   ]
  },
  {
   "cell_type": "code",
   "execution_count": 312,
   "metadata": {},
   "outputs": [
    {
     "data": {
      "text/plain": [
       "array([ 57.7679216 ,  57.37981851,  56.99617583,  56.6139993 ,\n",
       "        56.23213334,  55.84999521,  55.46723155,  55.08360015,\n",
       "        54.69892041,  54.31304919,  53.92586762,  53.53727336,\n",
       "        53.14717572,  52.75549237,  52.36214714,  51.9670684 ,\n",
       "        51.57018784,  51.17143964,  50.7707597 ,  50.36808513,\n",
       "        49.96335377,  49.55650384,  49.14747359,  48.73620105,\n",
       "        48.32262375,  47.90667854,  47.48830138,  47.06742714,\n",
       "        46.64398942,  46.2179204 ,  45.78915064,  45.35760895,\n",
       "        44.92322221,  44.48591519,  44.04561038,  43.60222786,\n",
       "        43.15568504,  42.70589654,  42.25277394,  41.79622561,\n",
       "        41.33615645,  40.8724677 ,  40.40505662,  39.93381629,\n",
       "        39.45863529,  38.97939737,  38.49598117,  38.00825981,\n",
       "        37.51610049,  37.01936412,  36.51790483,  36.01156942,\n",
       "        35.5001969 ,  34.9836178 ,  34.46165358,  33.93411585,\n",
       "        33.40080559,  32.86151227,  32.31601286,  31.76407073,\n",
       "        31.20543449,  30.63983654,  30.06699167,  29.48659525,\n",
       "        28.89832142,  28.30182083,  27.69671824,  27.08260973,\n",
       "        26.45905947,  25.82559608,  25.18170844,  24.52684075,\n",
       "        23.8603869 ,  23.1816838 ,  22.49000357,  21.78454432,\n",
       "        21.06441909,  20.32864274,  19.57611586,  18.80560546,\n",
       "        18.01572091,  17.20488432,  16.37129313,  15.51287267,\n",
       "        14.62721489,  13.71149833,  12.76238137,  11.77585739,\n",
       "        10.74705368,   9.66994471,   8.5369309 ,   7.33819679,\n",
       "         6.06068924,   4.68640017,   3.18927687,   1.52914935,\n",
       "        -0.36168295,  -2.61304507,  -5.5256147 , -10.        ])"
      ]
     },
     "execution_count": 312,
     "metadata": {},
     "output_type": "execute_result"
    }
   ],
   "source": [
    "u"
   ]
  },
  {
   "cell_type": "code",
   "execution_count": 316,
   "metadata": {},
   "outputs": [
    {
     "name": "stdout",
     "output_type": "stream",
     "text": [
      "\n",
      "--------------la solution différences finies---------------\n",
      " [[ 0.00000000e+00  4.77442347e-03  1.23014291e-02 ...  5.25718204e-03\n",
      "   3.62562952e-03  1.65267451e-03]\n",
      " [ 0.00000000e+00  9.55362136e-03  2.46103852e-02 ...  1.05129241e-02\n",
      "   7.24962749e-03  3.30337606e-03]\n",
      " [ 0.00000000e+00  1.43423729e-02  3.69343981e-02 ...  1.57657860e-02\n",
      "   1.08703622e-02  4.95013136e-03]\n",
      " ...\n",
      " [ 0.00000000e+00  1.67027863e+00  2.54051724e+00 ...  2.79043962e-01\n",
      "   8.38316961e-02 -1.75985966e-01]\n",
      " [ 0.00000000e+00  1.72415454e+00  2.59576966e+00 ...  2.76765681e-01\n",
      "   7.87050827e-02 -1.85453243e-01]\n",
      " [ 0.00000000e+00  1.77975461e+00  2.65189370e+00 ...  2.74321134e-01\n",
      "   7.33804087e-02 -1.95184678e-01]]\n"
     ]
    }
   ],
   "source": [
    "Nx = 100\n",
    "Nt = 100\n",
    "L = 0.1\n",
    "T = 0.1\n",
    "u = u\n",
    "alpha = 1\n",
    "sol_exact,sol_FD = test_FD_heat(Nx,Nt,L,T,u,5,False)"
   ]
  },
  {
   "cell_type": "markdown",
   "metadata": {},
   "source": [
    "# Références:"
   ]
  },
  {
   "cell_type": "markdown",
   "metadata": {},
   "source": [
    "$[1] \\quad \\quad http://irma.math.unistra.fr/\\text{~} privat/documents/M2\\_CO/optimM2\\_CO\\_etudiants.pdf $\n"
   ]
  },
  {
   "cell_type": "code",
   "execution_count": null,
   "metadata": {},
   "outputs": [],
   "source": []
  }
 ],
 "metadata": {
  "kernelspec": {
   "display_name": "opt-GEKKO",
   "language": "python",
   "name": "opt-gekko"
  },
  "language_info": {
   "codemirror_mode": {
    "name": "ipython",
    "version": 3
   },
   "file_extension": ".py",
   "mimetype": "text/x-python",
   "name": "python",
   "nbconvert_exporter": "python",
   "pygments_lexer": "ipython3",
   "version": "3.7.6"
  }
 },
 "nbformat": 4,
 "nbformat_minor": 4
}
